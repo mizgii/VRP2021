{
  "nbformat": 4,
  "nbformat_minor": 0,
  "metadata": {
    "colab": {
      "name": "pnd.ipynb",
      "provenance": [],
      "collapsed_sections": [],
      "authorship_tag": "ABX9TyOevk1YMKjAHe4BkHYO+566"
    },
    "kernelspec": {
      "name": "python3",
      "display_name": "Python 3"
    },
    "language_info": {
      "name": "python"
    }
  },
  "cells": [
    {
      "cell_type": "code",
      "metadata": {
        "colab": {
          "base_uri": "https://localhost:8080/",
          "height": 323
        },
        "id": "Pv73ZLWJCiIF",
        "outputId": "32f318c1-38fd-49d0-d26b-a182b6cf6ac4"
      },
      "source": [
        "!pip install ortools"
      ],
      "execution_count": 3,
      "outputs": [
        {
          "output_type": "stream",
          "text": [
            "Collecting ortools\n",
            "\u001b[?25l  Downloading https://files.pythonhosted.org/packages/6a/bd/75277072925d687aa35a6ea9e23e81a7f6b7c980b2a80949c5b9a3f98c79/ortools-9.0.9048-cp37-cp37m-manylinux1_x86_64.whl (14.4MB)\n",
            "\u001b[K     |████████████████████████████████| 14.4MB 249kB/s \n",
            "\u001b[?25hCollecting protobuf>=3.15.8\n",
            "\u001b[?25l  Downloading https://files.pythonhosted.org/packages/bb/f8/07b65b1c3a2334208208b8161857fd9c19f69ab5d2c5314ef5f0b5f07aa5/protobuf-3.17.1-cp37-cp37m-manylinux_2_5_x86_64.manylinux1_x86_64.whl (1.0MB)\n",
            "\u001b[K     |████████████████████████████████| 1.0MB 41.3MB/s \n",
            "\u001b[?25hRequirement already satisfied: absl-py>=0.11 in /usr/local/lib/python3.7/dist-packages (from ortools) (0.12.0)\n",
            "Requirement already satisfied: six>=1.9 in /usr/local/lib/python3.7/dist-packages (from protobuf>=3.15.8->ortools) (1.15.0)\n",
            "Installing collected packages: protobuf, ortools\n",
            "  Found existing installation: protobuf 3.12.4\n",
            "    Uninstalling protobuf-3.12.4:\n",
            "      Successfully uninstalled protobuf-3.12.4\n",
            "Successfully installed ortools-9.0.9048 protobuf-3.17.1\n"
          ],
          "name": "stdout"
        },
        {
          "output_type": "display_data",
          "data": {
            "application/vnd.colab-display-data+json": {
              "pip_warning": {
                "packages": [
                  "google"
                ]
              }
            }
          },
          "metadata": {
            "tags": []
          }
        }
      ]
    },
    {
      "cell_type": "markdown",
      "metadata": {
        "id": "KxZfpkhJEy2s"
      },
      "source": [
        "tutaj przypadkowe dystanse, pickup/delivery points i demands"
      ]
    },
    {
      "cell_type": "code",
      "metadata": {
        "colab": {
          "base_uri": "https://localhost:8080/"
        },
        "id": "9dsiv1KTzR0W",
        "outputId": "357898f6-ddde-48d5-972c-c4f8c2087ff7"
      },
      "source": [
        "import numpy as np\n",
        "from ortools.constraint_solver import routing_enums_pb2\n",
        "from ortools.constraint_solver import pywrapcp\n",
        "\n",
        "np.random.seed(0)\n",
        "n=50 #num of clients\n",
        "\n",
        "\n",
        "N=[i for i in range(1,n+1)] #clients\n",
        "V=[0]+N #verticles with central point\n",
        "x=np.random.rand(len(V))*100\n",
        "y=np.random.rand(len(V))*100\n",
        "\n",
        "p=[(i,j) for i in V for j in V ] #all posible routes  \n",
        "d={(i,j): int(np.hypot([x[i]-x[j]],[y[i]-y[j]])[0]) for (i,j) in p}\n",
        "\n",
        "distmat=list()\n",
        "\n",
        "for i in range(n+1):\n",
        "  distances=list()\n",
        "  for j in range(n+1):\n",
        "    distances.append(d[(i,j)])\n",
        "  distmat.append(distances)\n",
        "\n",
        "print(distmat)\n",
        "\n",
        "indexes=np.arange(1,n+1)\n",
        "np.random.shuffle(indexes) #randomize indexes\n",
        "pickups=indexes[0:int((n+1)/2)] #cut indexes in half to create random pickup and delivery points\n",
        "deliveries=indexes[int((n+1)/2):(n+1)]\n",
        "\n",
        "pnd=list()\n",
        "for i in range(len(pickups)):\n",
        "  pnd.append([pickups[i],deliveries[i]])\n",
        "\n",
        "print(pnd)\n",
        "\n",
        "demands=np.zeros(len(pickups)*2+1)\n",
        "\n",
        "for i in range(len(pickups)):\n",
        "  demands[pickups[i]]+=np.random.randint(1,4)\n",
        "  demands[deliveries[i]]+=(demands[pickups[i]]*(-1))\n",
        "print(demands)\n",
        "def create_data_model():\n",
        "    \"\"\"Stores the data for the problem.\"\"\"\n",
        "    data = {}\n",
        "    data['distance_matrix'] = distmat\n",
        "    data['pickups_deliveries'] = pnd\n",
        "    data['demands'] = demands\n",
        "    data['vehicle_capacities'] = [3,3,3,3,3,3,3,3]\n",
        "    data['num_vehicles'] = 8\n",
        "    data['depot'] = 0\n",
        "    return data"
      ],
      "execution_count": 71,
      "outputs": [
        {
          "output_type": "stream",
          "text": [
            "[[0, 57, 34, 22, 30, 23, 21, 34, 45, 32, 40, 21, 30, 44, 48, 59, 62, 48, 41, 62, 43, 59, 18, 37, 58, 18, 51, 42, 32, 18, 28, 43, 27, 12, 55, 10, 35, 15, 62, 17, 29, 32, 31, 51, 28, 19, 53, 57, 49, 30, 16], [57, 0, 89, 79, 87, 34, 78, 55, 78, 89, 88, 38, 86, 81, 89, 64, 113, 19, 89, 15, 58, 8, 45, 25, 112, 70, 103, 72, 89, 73, 72, 92, 39, 44, 100, 47, 90, 42, 23, 67, 47, 90, 27, 95, 80, 40, 109, 60, 106, 46, 73], [34, 89, 0, 12, 18, 55, 22, 46, 38, 22, 18, 55, 5, 33, 59, 88, 58, 77, 17, 91, 52, 89, 52, 66, 48, 18, 45, 39, 8, 28, 46, 17, 60, 46, 60, 42, 1, 47, 89, 23, 61, 16, 62, 57, 10, 48, 40, 86, 30, 62, 17], [22, 79, 12, 0, 13, 45, 11, 43, 42, 16, 26, 44, 7, 38, 50, 76, 53, 69, 25, 83, 50, 80, 40, 58, 45, 12, 41, 40, 9, 16, 34, 27, 49, 35, 52, 32, 13, 37, 82, 17, 49, 13, 52, 49, 12, 39, 38, 74, 30, 50, 6], [30, 87, 18, 13, 0, 53, 9, 55, 54, 4, 37, 50, 14, 50, 40, 74, 40, 79, 36, 92, 63, 89, 44, 67, 32, 24, 28, 53, 10, 15, 29, 36, 53, 43, 41, 41, 20, 45, 92, 30, 51, 3, 61, 38, 24, 49, 25, 72, 19, 51, 18], [23, 34, 55, 45, 53, 0, 45, 30, 51, 55, 56, 11, 52, 53, 64, 58, 83, 26, 57, 39, 38, 35, 19, 15, 80, 37, 73, 46, 54, 40, 44, 60, 19, 11, 73, 13, 56, 8, 40, 33, 28, 56, 8, 68, 47, 7, 76, 54, 72, 28, 39], [21, 78, 22, 11, 9, 45, 0, 50, 52, 10, 38, 41, 17, 49, 38, 66, 44, 70, 37, 84, 58, 80, 35, 59, 38, 20, 32, 50, 15, 6, 23, 38, 43, 33, 41, 32, 23, 36, 84, 25, 42, 12, 53, 37, 23, 40, 32, 65, 27, 43, 13], [34, 55, 46, 43, 55, 30, 50, 0, 23, 59, 36, 40, 46, 27, 82, 87, 94, 37, 38, 51, 8, 51, 45, 29, 88, 31, 82, 17, 50, 49, 62, 41, 49, 33, 89, 27, 46, 29, 46, 25, 56, 56, 31, 85, 36, 25, 81, 84, 73, 56, 37], [45, 78, 38, 42, 54, 51, 52, 23, 0, 58, 21, 59, 40, 6, 90, 104, 95, 60, 23, 73, 22, 75, 61, 52, 86, 32, 82, 5, 45, 55, 71, 26, 67, 50, 94, 44, 38, 47, 68, 29, 73, 53, 54, 90, 30, 45, 78, 101, 69, 74, 39], [32, 89, 22, 16, 4, 55, 10, 59, 58, 0, 41, 51, 18, 54, 37, 72, 36, 81, 39, 95, 67, 91, 45, 70, 29, 28, 24, 57, 14, 16, 28, 40, 53, 44, 37, 43, 23, 47, 95, 33, 50, 6, 63, 34, 28, 51, 22, 71, 16, 51, 21], [40, 88, 18, 26, 37, 56, 38, 36, 21, 41, 0, 60, 22, 15, 76, 100, 77, 72, 1, 86, 40, 86, 59, 62, 67, 22, 64, 24, 27, 43, 60, 4, 67, 50, 78, 44, 18, 49, 83, 23, 70, 35, 61, 75, 14, 49, 58, 97, 48, 71, 27], [21, 38, 55, 44, 50, 11, 41, 40, 59, 51, 60, 0, 51, 60, 54, 47, 75, 35, 61, 46, 48, 41, 8, 26, 74, 38, 66, 55, 53, 35, 35, 64, 8, 9, 64, 15, 56, 11, 49, 37, 16, 53, 17, 59, 49, 15, 71, 43, 68, 16, 38], [30, 86, 5, 7, 14, 52, 17, 46, 40, 18, 22, 51, 0, 36, 54, 83, 54, 74, 21, 89, 52, 86, 47, 63, 46, 16, 42, 40, 5, 23, 41, 21, 56, 42, 56, 38, 6, 44, 87, 21, 56, 13, 59, 52, 10, 45, 37, 81, 28, 57, 13], [44, 81, 33, 38, 50, 53, 49, 27, 6, 54, 15, 60, 36, 0, 87, 104, 91, 64, 17, 78, 27, 79, 61, 56, 82, 29, 78, 10, 41, 52, 69, 20, 68, 51, 90, 44, 32, 48, 73, 27, 73, 49, 56, 87, 25, 46, 73, 101, 63, 73, 36], [48, 89, 59, 50, 40, 64, 38, 82, 90, 37, 76, 54, 54, 87, 0, 45, 27, 89, 75, 100, 91, 94, 45, 80, 33, 57, 25, 87, 51, 34, 19, 76, 50, 53, 11, 56, 60, 58, 103, 61, 41, 43, 71, 8, 62, 63, 37, 46, 43, 42, 50], [59, 64, 88, 76, 74, 58, 66, 87, 104, 72, 100, 47, 83, 104, 45, 0, 72, 74, 100, 79, 95, 72, 43, 69, 78, 77, 70, 100, 82, 60, 44, 102, 39, 54, 55, 60, 89, 58, 86, 77, 31, 77, 61, 53, 86, 62, 81, 4, 84, 31, 73], [62, 113, 58, 53, 40, 83, 44, 94, 95, 36, 77, 75, 54, 91, 27, 72, 0, 109, 75, 122, 102, 117, 67, 99, 11, 64, 12, 94, 50, 45, 40, 75, 73, 72, 16, 73, 59, 76, 124, 69, 66, 41, 91, 19, 65, 81, 20, 73, 30, 67, 57], [48, 19, 77, 69, 79, 26, 70, 37, 60, 81, 72, 35, 74, 64, 89, 74, 109, 0, 74, 14, 39, 14, 43, 11, 107, 58, 99, 55, 78, 66, 70, 77, 40, 37, 99, 38, 77, 33, 14, 54, 50, 80, 18, 94, 67, 29, 102, 70, 98, 49, 62], [41, 89, 17, 25, 36, 57, 37, 38, 23, 39, 1, 61, 21, 17, 75, 100, 75, 74, 0, 88, 42, 88, 59, 64, 66, 23, 63, 26, 25, 42, 60, 3, 67, 51, 77, 45, 16, 50, 84, 24, 70, 34, 62, 74, 14, 50, 57, 97, 47, 71, 27], [62, 15, 91, 83, 92, 39, 84, 51, 73, 95, 86, 46, 89, 78, 100, 79, 122, 14, 88, 0, 51, 7, 55, 25, 120, 73, 112, 68, 92, 80, 82, 91, 50, 50, 110, 51, 91, 47, 8, 68, 59, 94, 31, 106, 81, 43, 116, 75, 111, 58, 76], [43, 58, 52, 50, 63, 38, 58, 8, 22, 67, 40, 48, 52, 27, 91, 95, 102, 39, 42, 51, 0, 53, 53, 33, 96, 38, 90, 17, 57, 58, 71, 45, 56, 42, 98, 36, 52, 37, 46, 33, 65, 63, 37, 93, 42, 32, 88, 92, 80, 64, 45], [59, 8, 89, 80, 89, 35, 80, 51, 75, 91, 86, 41, 86, 79, 94, 72, 117, 14, 88, 7, 53, 0, 50, 23, 115, 71, 107, 69, 90, 76, 77, 91, 44, 47, 105, 48, 90, 44, 15, 66, 53, 91, 27, 100, 80, 41, 112, 68, 108, 52, 74], [18, 45, 52, 40, 44, 19, 35, 45, 61, 45, 59, 8, 47, 61, 45, 43, 67, 43, 59, 55, 53, 50, 0, 34, 66, 36, 57, 57, 48, 29, 27, 62, 8, 11, 55, 17, 53, 15, 58, 36, 11, 47, 26, 51, 46, 20, 63, 40, 61, 12, 35], [37, 25, 66, 58, 67, 15, 59, 29, 52, 70, 62, 26, 63, 56, 80, 69, 99, 11, 64, 25, 33, 23, 34, 0, 96, 47, 88, 47, 67, 55, 60, 67, 32, 27, 89, 27, 66, 23, 25, 43, 42, 69, 8, 84, 56, 18, 91, 65, 86, 42, 51], [58, 112, 48, 45, 32, 80, 38, 88, 86, 29, 67, 74, 46, 82, 33, 78, 11, 107, 66, 120, 96, 115, 66, 96, 0, 57, 8, 86, 41, 40, 40, 65, 73, 69, 24, 69, 49, 73, 121, 62, 67, 33, 89, 25, 56, 77, 9, 78, 20, 68, 50], [18, 70, 18, 12, 24, 37, 20, 31, 32, 28, 22, 38, 16, 29, 57, 77, 64, 58, 23, 73, 38, 71, 36, 47, 57, 0, 52, 30, 20, 22, 39, 25, 44, 29, 62, 24, 19, 29, 71, 5, 47, 25, 43, 57, 10, 30, 50, 74, 42, 48, 7], [51, 103, 45, 41, 28, 73, 32, 82, 82, 24, 64, 66, 42, 78, 25, 70, 12, 99, 63, 112, 90, 107, 57, 88, 8, 52, 0, 82, 37, 33, 31, 63, 65, 61, 19, 62, 46, 65, 113, 57, 58, 29, 81, 18, 52, 70, 12, 70, 20, 59, 45], [42, 72, 39, 40, 53, 46, 50, 17, 5, 57, 24, 55, 40, 10, 87, 100, 94, 55, 26, 68, 17, 69, 57, 47, 86, 30, 82, 0, 45, 53, 69, 28, 62, 46, 92, 39, 38, 43, 63, 26, 69, 53, 48, 88, 29, 39, 78, 97, 69, 69, 37], [32, 89, 8, 9, 10, 54, 15, 50, 45, 14, 27, 53, 5, 41, 51, 82, 50, 78, 25, 92, 57, 90, 48, 67, 41, 20, 37, 45, 0, 22, 39, 25, 57, 45, 52, 41, 9, 46, 91, 25, 57, 8, 62, 49, 15, 49, 32, 81, 23, 58, 15], [18, 73, 28, 16, 15, 40, 6, 49, 55, 16, 43, 35, 23, 52, 34, 60, 45, 66, 42, 80, 58, 76, 29, 55, 40, 22, 33, 53, 22, 0, 17, 44, 37, 29, 39, 28, 29, 32, 80, 26, 35, 18, 48, 35, 28, 37, 36, 58, 32, 36, 16], [28, 72, 46, 34, 29, 44, 23, 62, 71, 28, 60, 35, 41, 69, 19, 44, 40, 70, 60, 82, 71, 77, 27, 60, 40, 39, 31, 69, 39, 17, 0, 61, 33, 33, 28, 36, 47, 38, 85, 42, 27, 33, 52, 23, 46, 44, 39, 43, 41, 28, 33], [43, 92, 17, 27, 36, 60, 38, 41, 26, 40, 4, 64, 21, 20, 76, 102, 75, 77, 3, 91, 45, 91, 62, 67, 65, 25, 63, 28, 25, 44, 61, 0, 70, 54, 78, 48, 16, 53, 88, 27, 73, 34, 65, 74, 16, 53, 56, 100, 46, 73, 28], [27, 39, 60, 49, 53, 19, 43, 49, 67, 53, 67, 8, 56, 68, 50, 39, 73, 40, 67, 50, 56, 44, 8, 32, 73, 44, 65, 62, 57, 37, 33, 70, 0, 16, 61, 23, 61, 19, 54, 43, 9, 56, 24, 56, 55, 23, 71, 35, 70, 9, 43], [12, 44, 46, 35, 43, 11, 33, 33, 50, 44, 50, 9, 42, 51, 53, 54, 72, 37, 51, 50, 42, 47, 11, 27, 69, 29, 61, 46, 45, 29, 33, 54, 16, 0, 62, 6, 47, 4, 52, 27, 23, 45, 19, 57, 39, 10, 65, 51, 61, 23, 29], [55, 100, 60, 52, 41, 73, 41, 89, 94, 37, 78, 64, 56, 90, 11, 55, 16, 99, 77, 110, 98, 105, 55, 89, 24, 62, 19, 92, 52, 39, 28, 78, 61, 62, 0, 65, 61, 67, 113, 66, 52, 43, 81, 4, 65, 72, 31, 57, 39, 53, 55], [10, 47, 42, 32, 41, 13, 32, 27, 44, 43, 44, 15, 38, 44, 56, 60, 73, 38, 45, 51, 36, 48, 17, 27, 69, 24, 62, 39, 41, 28, 36, 48, 23, 6, 65, 0, 42, 5, 52, 21, 29, 43, 20, 60, 34, 8, 64, 57, 60, 29, 25], [35, 90, 1, 13, 20, 56, 23, 46, 38, 23, 18, 56, 6, 32, 60, 89, 59, 77, 16, 91, 52, 90, 53, 66, 49, 19, 46, 38, 9, 29, 47, 16, 61, 47, 61, 42, 0, 48, 89, 23, 62, 17, 62, 58, 10, 49, 40, 87, 30, 63, 18], [15, 42, 47, 37, 45, 8, 36, 29, 47, 47, 49, 11, 44, 48, 58, 58, 76, 33, 50, 47, 37, 44, 15, 23, 73, 29, 65, 43, 46, 32, 38, 53, 19, 4, 67, 5, 48, 0, 48, 26, 27, 47, 16, 62, 39, 5, 68, 54, 64, 27, 30], [62, 23, 89, 82, 92, 40, 84, 46, 68, 95, 83, 49, 87, 73, 103, 86, 124, 14, 84, 8, 46, 15, 58, 25, 121, 71, 113, 63, 91, 80, 85, 88, 54, 52, 113, 52, 89, 48, 0, 66, 64, 94, 32, 109, 79, 43, 116, 82, 111, 63, 75], [17, 67, 23, 17, 30, 33, 25, 25, 29, 33, 23, 37, 21, 27, 61, 77, 69, 54, 24, 68, 33, 66, 36, 43, 62, 5, 57, 26, 25, 26, 42, 27, 43, 27, 66, 21, 23, 26, 66, 0, 47, 30, 39, 62, 13, 26, 55, 75, 48, 47, 12], [29, 47, 61, 49, 51, 28, 42, 56, 73, 50, 70, 16, 56, 73, 41, 31, 66, 50, 70, 59, 65, 53, 11, 42, 67, 47, 58, 69, 57, 35, 27, 73, 9, 23, 52, 29, 62, 27, 64, 47, 0, 54, 34, 48, 57, 32, 66, 28, 66, 1, 44], [32, 90, 16, 13, 3, 56, 12, 56, 53, 6, 35, 53, 13, 49, 43, 77, 41, 80, 34, 94, 63, 91, 47, 69, 33, 25, 29, 53, 8, 18, 33, 34, 56, 45, 43, 43, 17, 47, 94, 30, 54, 0, 63, 40, 23, 51, 25, 76, 17, 55, 19], [31, 27, 62, 52, 61, 8, 53, 31, 54, 63, 61, 17, 59, 56, 71, 61, 91, 18, 62, 31, 37, 27, 26, 8, 89, 43, 81, 48, 62, 48, 52, 65, 24, 19, 81, 20, 62, 16, 32, 39, 34, 63, 0, 76, 53, 13, 84, 57, 80, 33, 46], [51, 95, 57, 49, 38, 68, 37, 85, 90, 34, 75, 59, 52, 87, 8, 53, 19, 94, 74, 106, 93, 100, 51, 84, 25, 57, 18, 88, 49, 35, 23, 74, 56, 57, 4, 60, 58, 62, 109, 62, 48, 40, 76, 0, 61, 67, 30, 54, 38, 49, 51], [28, 80, 10, 12, 24, 47, 23, 36, 30, 28, 14, 49, 10, 25, 62, 86, 65, 67, 14, 81, 42, 80, 46, 56, 56, 10, 52, 29, 15, 28, 46, 16, 55, 39, 65, 34, 10, 39, 79, 13, 57, 23, 53, 61, 0, 40, 48, 84, 39, 58, 12], [19, 40, 48, 39, 49, 7, 40, 25, 45, 51, 49, 15, 45, 46, 63, 62, 81, 29, 50, 43, 32, 41, 20, 18, 77, 30, 70, 39, 49, 37, 44, 53, 23, 10, 72, 8, 49, 5, 43, 26, 32, 51, 13, 67, 40, 0, 72, 59, 68, 32, 33], [53, 109, 40, 38, 25, 76, 32, 81, 78, 22, 58, 71, 37, 73, 37, 81, 20, 102, 57, 116, 88, 112, 63, 91, 9, 50, 12, 78, 32, 36, 39, 56, 71, 65, 31, 64, 40, 68, 116, 55, 66, 25, 84, 30, 48, 72, 0, 81, 10, 67, 43], [57, 60, 86, 74, 72, 54, 65, 84, 101, 71, 97, 43, 81, 101, 46, 4, 73, 70, 97, 75, 92, 68, 40, 65, 78, 74, 70, 97, 81, 58, 43, 100, 35, 51, 57, 57, 87, 54, 82, 75, 28, 76, 57, 54, 84, 59, 81, 0, 84, 27, 71], [49, 106, 30, 30, 19, 72, 27, 73, 69, 16, 48, 68, 28, 63, 43, 84, 30, 98, 47, 111, 80, 108, 61, 86, 20, 42, 20, 69, 23, 32, 41, 46, 70, 61, 39, 60, 30, 64, 111, 48, 66, 17, 80, 38, 39, 68, 10, 84, 0, 67, 36], [30, 46, 62, 50, 51, 28, 43, 56, 74, 51, 71, 16, 57, 73, 42, 31, 67, 49, 71, 58, 64, 52, 12, 42, 68, 48, 59, 69, 58, 36, 28, 73, 9, 23, 53, 29, 63, 27, 63, 47, 1, 55, 33, 49, 58, 32, 67, 27, 67, 0, 45], [16, 73, 17, 6, 18, 39, 13, 37, 39, 21, 27, 38, 13, 36, 50, 73, 57, 62, 27, 76, 45, 74, 35, 51, 50, 7, 45, 37, 15, 16, 33, 28, 43, 29, 55, 25, 18, 30, 75, 12, 44, 19, 46, 51, 12, 33, 43, 71, 36, 45, 0]]\n",
            "[[24, 22], [13, 29], [36, 17], [42, 25], [18, 50], [47, 38], [21, 26], [11, 48], [31, 23], [19, 12], [8, 40], [6, 5], [7, 33], [10, 15], [16, 4], [30, 3], [37, 27], [1, 46], [43, 32], [2, 20], [45, 9], [49, 41], [34, 14], [28, 44], [39, 35]]\n",
            "[ 0.  1.  3. -2. -2. -3.  3.  3.  1. -3.  3.  1. -3.  2. -2. -3.  2. -2.\n",
            "  1.  3. -3.  2. -2. -3.  2. -3. -2. -1.  1. -2.  2.  3. -1. -3.  2. -1.\n",
            "  2.  1. -1.  1. -1. -2.  3.  1. -1.  3. -1.  1. -1.  2. -1.]\n"
          ],
          "name": "stdout"
        }
      ]
    },
    {
      "cell_type": "markdown",
      "metadata": {
        "id": "MUWItumUEqOO"
      },
      "source": [
        "tutaj zostawiam odgórny model dla porównania "
      ]
    },
    {
      "cell_type": "code",
      "metadata": {
        "id": "3wgVF_KwCM19"
      },
      "source": [
        "from ortools.constraint_solver import routing_enums_pb2\n",
        "from ortools.constraint_solver import pywrapcp\n",
        "\n",
        "\n",
        "def create_data_model():\n",
        "    \"\"\"Stores the data for the problem.\"\"\"\n",
        "    data = {}\n",
        "    data['distance_matrix'] = [\n",
        "        [\n",
        "            0, 548, 776, 696, 582, 274, 502, 194, 308, 194, 536, 502, 388, 354,\n",
        "            468, 776, 662\n",
        "        ],\n",
        "        [\n",
        "            548, 0, 684, 308, 194, 502, 730, 354, 696, 742, 1084, 594, 480, 674,\n",
        "            1016, 868, 1210\n",
        "        ],\n",
        "        [\n",
        "            776, 684, 0, 992, 878, 502, 274, 810, 468, 742, 400, 1278, 1164,\n",
        "            1130, 788, 1552, 754\n",
        "        ],\n",
        "        [\n",
        "            696, 308, 992, 0, 114, 650, 878, 502, 844, 890, 1232, 514, 628, 822,\n",
        "            1164, 560, 1358\n",
        "        ],\n",
        "        [\n",
        "            582, 194, 878, 114, 0, 536, 764, 388, 730, 776, 1118, 400, 514, 708,\n",
        "            1050, 674, 1244\n",
        "        ],\n",
        "        [\n",
        "            274, 502, 502, 650, 536, 0, 228, 308, 194, 240, 582, 776, 662, 628,\n",
        "            514, 1050, 708\n",
        "        ],\n",
        "        [\n",
        "            502, 730, 274, 878, 764, 228, 0, 536, 194, 468, 354, 1004, 890, 856,\n",
        "            514, 1278, 480\n",
        "        ],\n",
        "        [\n",
        "            194, 354, 810, 502, 388, 308, 536, 0, 342, 388, 730, 468, 354, 320,\n",
        "            662, 742, 856\n",
        "        ],\n",
        "        [\n",
        "            308, 696, 468, 844, 730, 194, 194, 342, 0, 274, 388, 810, 696, 662,\n",
        "            320, 1084, 514\n",
        "        ],\n",
        "        [\n",
        "            194, 742, 742, 890, 776, 240, 468, 388, 274, 0, 342, 536, 422, 388,\n",
        "            274, 810, 468\n",
        "        ],\n",
        "        [\n",
        "            536, 1084, 400, 1232, 1118, 582, 354, 730, 388, 342, 0, 878, 764,\n",
        "            730, 388, 1152, 354\n",
        "        ],\n",
        "        [\n",
        "            502, 594, 1278, 514, 400, 776, 1004, 468, 810, 536, 878, 0, 114,\n",
        "            308, 650, 274, 844\n",
        "        ],\n",
        "        [\n",
        "            388, 480, 1164, 628, 514, 662, 890, 354, 696, 422, 764, 114, 0, 194,\n",
        "            536, 388, 730\n",
        "        ],\n",
        "        [\n",
        "            354, 674, 1130, 822, 708, 628, 856, 320, 662, 388, 730, 308, 194, 0,\n",
        "            342, 422, 536\n",
        "        ],\n",
        "        [\n",
        "            468, 1016, 788, 1164, 1050, 514, 514, 662, 320, 274, 388, 650, 536,\n",
        "            342, 0, 764, 194\n",
        "        ],\n",
        "        [\n",
        "            776, 868, 1552, 560, 674, 1050, 1278, 742, 1084, 810, 1152, 274,\n",
        "            388, 422, 764, 0, 798\n",
        "        ],\n",
        "        [\n",
        "            662, 1210, 754, 1358, 1244, 708, 480, 856, 514, 468, 354, 844, 730,\n",
        "            536, 194, 798, 0\n",
        "        ],\n",
        "    ]\n",
        "    data['pickups_deliveries'] = [\n",
        "        [1, 6],\n",
        "        [2, 10],\n",
        "        [4, 3],\n",
        "        [5, 9],\n",
        "        [7, 8],\n",
        "        [15, 11],\n",
        "        [13, 12],\n",
        "        [16, 14],\n",
        "    ]\n",
        "    data['demands'] = [0,1, 2, -1, 1, 1, -1, 1, -1, -1, -2, -2, -1, 1, -1, 2, 1]\n",
        "    data['vehicle_capacities'] = [3, 4, 3, 4]\n",
        "    data['num_vehicles'] = 4\n",
        "    data['depot'] = 0\n",
        "    return data\n",
        "                                    "
      ],
      "execution_count": 11,
      "outputs": []
    },
    {
      "cell_type": "code",
      "metadata": {
        "id": "E8DA5_j9kruO"
      },
      "source": [
        "def print_solution(data, manager, routing, solution):\n",
        "    \"\"\"Prints solution on console.\"\"\"\n",
        "    print(f'Objective: {solution.ObjectiveValue()}')\n",
        "    total_distance = 0\n",
        "    total_load = 0\n",
        "    for vehicle_id in range(data['num_vehicles']):\n",
        "        index = routing.Start(vehicle_id)\n",
        "        plan_output = 'Route for vehicle {}:\\n'.format(vehicle_id)\n",
        "        route_distance = 0\n",
        "        route_load = 0\n",
        "        while not routing.IsEnd(index):\n",
        "            node_index = manager.IndexToNode(index)\n",
        "            route_load += data['demands'][node_index]\n",
        "            plan_output += ' {0} Load({1}) -> '.format(node_index, route_load)\n",
        "            previous_index = index\n",
        "            index = solution.Value(routing.NextVar(index))\n",
        "            route_distance += routing.GetArcCostForVehicle(\n",
        "                previous_index, index, vehicle_id)\n",
        "        plan_output += ' {0} Load({1})\\n'.format(manager.IndexToNode(index),\n",
        "                                                 route_load)\n",
        "        plan_output += 'Distance of the route: {}m\\n'.format(route_distance)\n",
        "        plan_output += 'Load of the route: {}\\n'.format(route_load)\n",
        "        print(plan_output)\n",
        "        total_distance += route_distance\n",
        "        total_load += route_load\n",
        "    print('Total distance of all routes: {}m'.format(total_distance))\n",
        "    print('Total load of all routes: {}'.format(total_load))"
      ],
      "execution_count": 72,
      "outputs": []
    },
    {
      "cell_type": "markdown",
      "metadata": {
        "id": "_Y50vo45E-5I"
      },
      "source": [
        "main pickup n delivery z capacity constraints (chwilowo wyłączyłam uciekanie z lokalnych minimów, jest zakomentowane pod search parameters)"
      ]
    },
    {
      "cell_type": "code",
      "metadata": {
        "colab": {
          "base_uri": "https://localhost:8080/"
        },
        "id": "AHeBeZOCebO3",
        "outputId": "33c15c99-aec2-4ffa-90cb-dd7b57e80089"
      },
      "source": [
        "def main():\n",
        "    \"\"\"Entry point of the program.\"\"\"\n",
        "    # Instantiate the data problem.\n",
        "    data = create_data_model()\n",
        "\n",
        "    # Create the routing index manager.\n",
        "    manager = pywrapcp.RoutingIndexManager(len(data['distance_matrix']),\n",
        "                                           data['num_vehicles'], data['depot'])\n",
        "\n",
        "    # Create Routing Model.\n",
        "    routing = pywrapcp.RoutingModel(manager)\n",
        "\n",
        "\n",
        "    # Define cost of each arc.\n",
        "    def distance_callback(from_index, to_index):\n",
        "        \"\"\"Returns the manhattan distance between the two nodes.\"\"\"\n",
        "        # Convert from routing variable Index to distance matrix NodeIndex.\n",
        "        from_node = manager.IndexToNode(from_index)\n",
        "        to_node = manager.IndexToNode(to_index)\n",
        "        return data['distance_matrix'][from_node][to_node]\n",
        "\n",
        "    transit_callback_index = routing.RegisterTransitCallback(distance_callback)\n",
        "    routing.SetArcCostEvaluatorOfAllVehicles(transit_callback_index)\n",
        "\n",
        "    def demand_callback(from_index):\n",
        "        \"\"\"Returns the demand of the node.\"\"\"\n",
        "        # Convert from routing variable Index to demands NodeIndex.\n",
        "        from_node = manager.IndexToNode(from_index)\n",
        "        return data['demands'][from_node]\n",
        "\n",
        "    demand_callback_index = routing.RegisterUnaryTransitCallback(\n",
        "        demand_callback)\n",
        "    routing.AddDimensionWithVehicleCapacity(\n",
        "        demand_callback_index,\n",
        "        0,  # null capacity slack\n",
        "        data['vehicle_capacities'],  # vehicle maximum capacities\n",
        "        True,  # start cumul to zero\n",
        "        'Capacity')\n",
        "\n",
        "    # Add Distance constraint.\n",
        "    dimension_name = 'Distance'\n",
        "    routing.AddDimension(\n",
        "        transit_callback_index,\n",
        "        0,  # no slack\n",
        "        3000,  # vehicle maximum travel distance\n",
        "        True,  # start cumul to zero\n",
        "        dimension_name)\n",
        "    distance_dimension = routing.GetDimensionOrDie(dimension_name)\n",
        "    distance_dimension.SetGlobalSpanCostCoefficient(100)\n",
        "\n",
        "    # Define Transportation Requests.\n",
        "    for request in data['pickups_deliveries']:\n",
        "        pickup_index = manager.NodeToIndex(request[0])\n",
        "        delivery_index = manager.NodeToIndex(request[1])\n",
        "        routing.AddPickupAndDelivery(pickup_index, delivery_index)\n",
        "        routing.solver().Add(\n",
        "            routing.VehicleVar(pickup_index) == routing.VehicleVar(\n",
        "                delivery_index))\n",
        "        routing.solver().Add(\n",
        "            distance_dimension.CumulVar(pickup_index) <=\n",
        "            distance_dimension.CumulVar(delivery_index))\n",
        "\n",
        "    # Setting first solution heuristic.\n",
        "    search_parameters = pywrapcp.DefaultRoutingSearchParameters()\n",
        "    search_parameters.first_solution_strategy = (\n",
        "        routing_enums_pb2.FirstSolutionStrategy.PARALLEL_CHEAPEST_INSERTION)\n",
        "\n",
        "    #search_parameters.local_search_metaheuristic = (\n",
        "        #routing_enums_pb2.LocalSearchMetaheuristic.SIMULATED_ANNEALING)\n",
        "    #search_parameters.time_limit.FromSeconds(300)\n",
        "    # Solve the problem.\n",
        "    solution = routing.SolveWithParameters(search_parameters)\n",
        "\n",
        "    # Print solution on console.\n",
        "    if solution:\n",
        "        print_solution(data, manager, routing, solution)\n",
        "\n",
        "\n",
        "if __name__ == '__main__':\n",
        "    main()"
      ],
      "execution_count": 73,
      "outputs": [
        {
          "output_type": "stream",
          "text": [
            "Objective: 30665\n",
            "Route for vehicle 0:\n",
            " 0 Load(0.0) ->  34 Load(2.0) ->  14 Load(0.0) ->  30 Load(2.0) ->  3 Load(0.0) ->  2 Load(3.0) ->  20 Load(0.0) ->  13 Load(2.0) ->  18 Load(3.0) ->  50 Load(2.0) ->  29 Load(0.0) ->  0 Load(0.0)\n",
            "Distance of the route: 288m\n",
            "Load of the route: 0.0\n",
            "\n",
            "Route for vehicle 1:\n",
            " 0 Load(0.0) ->  11 Load(1.0) ->  49 Load(3.0) ->  41 Load(1.0) ->  48 Load(0.0) ->  24 Load(2.0) ->  43 Load(3.0) ->  32 Load(2.0) ->  22 Load(0.0) ->  0 Load(0.0)\n",
            "Distance of the route: 236m\n",
            "Load of the route: 0.0\n",
            "\n",
            "Route for vehicle 2:\n",
            " 0 Load(0.0) ->  45 Load(3.0) ->  9 Load(0.0) ->  28 Load(1.0) ->  36 Load(3.0) ->  44 Load(2.0) ->  8 Load(3.0) ->  17 Load(1.0) ->  40 Load(0.0) ->  0 Load(0.0)\n",
            "Distance of the route: 272m\n",
            "Load of the route: 0.0\n",
            "\n",
            "Route for vehicle 3:\n",
            " 0 Load(0.0) ->  10 Load(3.0) ->  15 Load(0.0) ->  47 Load(1.0) ->  38 Load(0.0) ->  0 Load(0.0)\n",
            "Distance of the route: 288m\n",
            "Load of the route: 0.0\n",
            "\n",
            "Route for vehicle 4:\n",
            " 0 Load(0.0) ->  7 Load(3.0) ->  33 Load(0.0) ->  37 Load(1.0) ->  27 Load(0.0) ->  31 Load(3.0) ->  23 Load(0.0) ->  42 Load(3.0) ->  25 Load(0.0) ->  0 Load(0.0)\n",
            "Distance of the route: 278m\n",
            "Load of the route: 0.0\n",
            "\n",
            "Route for vehicle 5:\n",
            " 0 Load(0.0) ->  21 Load(2.0) ->  1 Load(3.0) ->  26 Load(1.0) ->  16 Load(3.0) ->  46 Load(2.0) ->  4 Load(0.0) ->  0 Load(0.0)\n",
            "Distance of the route: 257m\n",
            "Load of the route: 0.0\n",
            "\n",
            "Route for vehicle 6:\n",
            " 0 Load(0.0) ->  6 Load(3.0) ->  5 Load(0.0) ->  19 Load(3.0) ->  12 Load(0.0) ->  39 Load(1.0) ->  35 Load(0.0) ->  0 Load(0.0)\n",
            "Distance of the route: 246m\n",
            "Load of the route: 0.0\n",
            "\n",
            "Route for vehicle 7:\n",
            " 0 Load(0.0) ->  0 Load(0.0)\n",
            "Distance of the route: 0m\n",
            "Load of the route: 0.0\n",
            "\n",
            "Total distance of all routes: 1865m\n",
            "Total load of all routes: 0.0\n"
          ],
          "name": "stdout"
        }
      ]
    }
  ]
}