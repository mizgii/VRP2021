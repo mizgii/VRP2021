{
  "nbformat": 4,
  "nbformat_minor": 0,
  "metadata": {
    "colab": {
      "name": "pnd.ipynb",
      "provenance": [],
      "collapsed_sections": [],
      "authorship_tag": "ABX9TyOgqDndYcrXjpOS6Grn1cnq"
    },
    "kernelspec": {
      "name": "python3",
      "display_name": "Python 3"
    },
    "language_info": {
      "name": "python"
    }
  },
  "cells": [
    {
      "cell_type": "code",
      "metadata": {
        "colab": {
          "base_uri": "https://localhost:8080/",
          "height": 323
        },
        "id": "Pv73ZLWJCiIF",
        "outputId": "7fef61ae-b079-491f-90d5-9ead9f731403"
      },
      "source": [
        "!pip install ortools\n"
      ],
      "execution_count": 1,
      "outputs": [
        {
          "output_type": "stream",
          "text": [
            "Collecting ortools\n",
            "\u001b[?25l  Downloading https://files.pythonhosted.org/packages/6a/bd/75277072925d687aa35a6ea9e23e81a7f6b7c980b2a80949c5b9a3f98c79/ortools-9.0.9048-cp37-cp37m-manylinux1_x86_64.whl (14.4MB)\n",
            "\u001b[K     |████████████████████████████████| 14.4MB 234kB/s \n",
            "\u001b[?25hRequirement already satisfied: absl-py>=0.11 in /usr/local/lib/python3.7/dist-packages (from ortools) (0.12.0)\n",
            "Collecting protobuf>=3.15.8\n",
            "\u001b[?25l  Downloading https://files.pythonhosted.org/packages/bb/f8/07b65b1c3a2334208208b8161857fd9c19f69ab5d2c5314ef5f0b5f07aa5/protobuf-3.17.1-cp37-cp37m-manylinux_2_5_x86_64.manylinux1_x86_64.whl (1.0MB)\n",
            "\u001b[K     |████████████████████████████████| 1.0MB 25.7MB/s \n",
            "\u001b[?25hRequirement already satisfied: six in /usr/local/lib/python3.7/dist-packages (from absl-py>=0.11->ortools) (1.15.0)\n",
            "Installing collected packages: protobuf, ortools\n",
            "  Found existing installation: protobuf 3.12.4\n",
            "    Uninstalling protobuf-3.12.4:\n",
            "      Successfully uninstalled protobuf-3.12.4\n",
            "Successfully installed ortools-9.0.9048 protobuf-3.17.1\n"
          ],
          "name": "stdout"
        },
        {
          "output_type": "display_data",
          "data": {
            "application/vnd.colab-display-data+json": {
              "pip_warning": {
                "packages": [
                  "google"
                ]
              }
            }
          },
          "metadata": {
            "tags": []
          }
        }
      ]
    },
    {
      "cell_type": "markdown",
      "metadata": {
        "id": "KxZfpkhJEy2s"
      },
      "source": [
        "tutaj przypadkowe dystanse, pickup/delivery points i demands"
      ]
    },
    {
      "cell_type": "code",
      "metadata": {
        "id": "9dsiv1KTzR0W"
      },
      "source": [
        "import numpy as np\n",
        "from ortools.constraint_solver import routing_enums_pb2\n",
        "from ortools.constraint_solver import pywrapcp\n",
        "\n",
        "\n",
        "n=50 #num of clients\n",
        "nv=5 #num of vehicles\n",
        "vc=[3]*nv #capacities\n",
        "\n",
        "N=[i for i in range(1,n+1)] #clients\n",
        "V=[0]+N #verticles with central point\n",
        "x=np.random.rand(len(V))*100\n",
        "y=np.random.rand(len(V))*100\n",
        "\n",
        "p=[(i,j) for i in V for j in V ] #all posible routes  \n",
        "d={(i,j): int(np.hypot([x[i]-x[j]],[y[i]-y[j]])[0]) for (i,j) in p}\n",
        "\n",
        "distmat=list()\n",
        "\n",
        "for i in range(n+1):\n",
        "  distances=list()\n",
        "  for j in range(n+1):\n",
        "    distances.append(d[(i,j)])\n",
        "  distmat.append(distances)\n",
        "\n",
        "\n",
        "\n",
        "indexes=np.arange(1,n+1)\n",
        "np.random.shuffle(indexes) #randomize indexes\n",
        "pickups=indexes[0:int((n+1)/2)] #cut indexes in half to create random pickup and delivery points\n",
        "deliveries=indexes[int((n+1)/2):(n+1)]\n",
        "\n",
        "pnd=list()\n",
        "for i in range(len(pickups)):\n",
        "  pnd.append([pickups[i],deliveries[i]])\n",
        "\n",
        "\n",
        "\n",
        "demands=np.zeros(len(pickups)*2+1)\n",
        "\n",
        "for i in range(len(pickups)):\n",
        "  demands[pickups[i]]+=np.random.randint(1,4)\n",
        "  demands[deliveries[i]]+=(demands[pickups[i]]*(-1))\n",
        "\n",
        "def create_data_model():\n",
        "    \"\"\"Stores the data for the problem.\"\"\"\n",
        "    data = {}\n",
        "    data['distance_matrix'] = distmat\n",
        "    data['pickups_deliveries'] = pnd\n",
        "    data['demands'] = demands\n",
        "    data['vehicle_capacities'] = vc\n",
        "    data['num_vehicles'] = nv\n",
        "    data['depot'] = 0\n",
        "    return data"
      ],
      "execution_count": 41,
      "outputs": []
    },
    {
      "cell_type": "code",
      "metadata": {
        "id": "E8DA5_j9kruO"
      },
      "source": [
        "def print_solution(data, manager, routing, solution):\n",
        "    \"\"\"Prints solution on console.\"\"\"\n",
        "    print(f'Objective: {solution.ObjectiveValue()}')\n",
        "    total_distance = 0\n",
        "    total_load = 0\n",
        "    for vehicle_id in range(data['num_vehicles']):\n",
        "        index = routing.Start(vehicle_id)\n",
        "        plan_output = 'Route for vehicle {}:\\n'.format(vehicle_id)\n",
        "        route_distance = 0\n",
        "        route_load = 0\n",
        "        while not routing.IsEnd(index):\n",
        "            node_index = manager.IndexToNode(index)\n",
        "            route_load += data['demands'][node_index]\n",
        "            plan_output += ' {0} Load({1}) -> '.format(node_index, route_load)\n",
        "            previous_index = index\n",
        "            index = solution.Value(routing.NextVar(index))\n",
        "            route_distance += routing.GetArcCostForVehicle(\n",
        "                previous_index, index, vehicle_id)\n",
        "        plan_output += ' {0} Load({1})\\n'.format(manager.IndexToNode(index),\n",
        "                                                 route_load)\n",
        "        plan_output += 'Distance of the route: {}m\\n'.format(route_distance)\n",
        "        plan_output += 'Load of the route: {}\\n'.format(route_load)\n",
        "        print(plan_output)\n",
        "        total_distance += route_distance\n",
        "        total_load += route_load\n",
        "    print('Total distance of all routes: {}m'.format(total_distance))\n",
        "    print('Total load of all routes: {}'.format(total_load))"
      ],
      "execution_count": 42,
      "outputs": []
    },
    {
      "cell_type": "markdown",
      "metadata": {
        "id": "_Y50vo45E-5I"
      },
      "source": [
        "main pickup n delivery z capacity constraints (chwilowo wyłączyłam uciekanie z lokalnych minimów, jest zakomentowane pod search parameters)"
      ]
    },
    {
      "cell_type": "code",
      "metadata": {
        "colab": {
          "base_uri": "https://localhost:8080/"
        },
        "id": "AHeBeZOCebO3",
        "outputId": "bae85811-db3a-41f1-c64b-e271fe54338e"
      },
      "source": [
        "def main():\n",
        "    \"\"\"Entry point of the program.\"\"\"\n",
        "    # Instantiate the data problem.\n",
        "    data = create_data_model()\n",
        "\n",
        "    # Create the routing index manager.\n",
        "    manager = pywrapcp.RoutingIndexManager(len(data['distance_matrix']),\n",
        "                                           data['num_vehicles'], data['depot'])\n",
        "\n",
        "    # Create Routing Model.\n",
        "    routing = pywrapcp.RoutingModel(manager)\n",
        "\n",
        "\n",
        "    # Define cost of each arc.\n",
        "    def distance_callback(from_index, to_index):\n",
        "        \"\"\"Returns the manhattan distance between the two nodes.\"\"\"\n",
        "        # Convert from routing variable Index to distance matrix NodeIndex.\n",
        "        from_node = manager.IndexToNode(from_index)\n",
        "        to_node = manager.IndexToNode(to_index)\n",
        "        return data['distance_matrix'][from_node][to_node]\n",
        "\n",
        "    transit_callback_index = routing.RegisterTransitCallback(distance_callback)\n",
        "    routing.SetArcCostEvaluatorOfAllVehicles(transit_callback_index)\n",
        "\n",
        "    def demand_callback(from_index):\n",
        "        \"\"\"Returns the demand of the node.\"\"\"\n",
        "        # Convert from routing variable Index to demands NodeIndex.\n",
        "        from_node = manager.IndexToNode(from_index)\n",
        "        return data['demands'][from_node]\n",
        "\n",
        "    demand_callback_index = routing.RegisterUnaryTransitCallback(\n",
        "        demand_callback)\n",
        "    routing.AddDimensionWithVehicleCapacity(\n",
        "        demand_callback_index,\n",
        "        0,  # null capacity slack\n",
        "        data['vehicle_capacities'],  # vehicle maximum capacities\n",
        "        True,  # start cumul to zero\n",
        "        'Capacity')\n",
        "\n",
        "    # Add Distance constraint.\n",
        "    dimension_name = 'Distance'\n",
        "    routing.AddDimension(\n",
        "        transit_callback_index,\n",
        "        0,  # no slack\n",
        "        3000,  # vehicle maximum travel distance\n",
        "        True,  # start cumul to zero\n",
        "        dimension_name)\n",
        "    distance_dimension = routing.GetDimensionOrDie(dimension_name)\n",
        "    distance_dimension.SetGlobalSpanCostCoefficient(100)\n",
        "\n",
        "    # Define Transportation Requests.\n",
        "    for request in data['pickups_deliveries']:\n",
        "        pickup_index = manager.NodeToIndex(request[0])\n",
        "        delivery_index = manager.NodeToIndex(request[1])\n",
        "        routing.AddPickupAndDelivery(pickup_index, delivery_index)\n",
        "        routing.solver().Add(\n",
        "            routing.VehicleVar(pickup_index) == routing.VehicleVar(\n",
        "                delivery_index))\n",
        "        routing.solver().Add(\n",
        "            distance_dimension.CumulVar(pickup_index) <=\n",
        "            distance_dimension.CumulVar(delivery_index))\n",
        "\n",
        "    # Setting first solution heuristic.\n",
        "    search_parameters = pywrapcp.DefaultRoutingSearchParameters()\n",
        "    search_parameters.first_solution_strategy = (\n",
        "        routing_enums_pb2.FirstSolutionStrategy.PARALLEL_CHEAPEST_INSERTION)\n",
        "\n",
        "    #search_parameters.local_search_metaheuristic = (\n",
        "        #routing_enums_pb2.LocalSearchMetaheuristic.SIMULATED_ANNEALING)\n",
        "    #search_parameters.time_limit.FromSeconds(300)\n",
        "    # Solve the problem.\n",
        "    solution = routing.SolveWithParameters(search_parameters)\n",
        "\n",
        "    # Print solution on console.\n",
        "    if solution:\n",
        "        print_solution(data, manager, routing, solution)\n",
        "\n",
        "    print(solution)\n",
        "\n",
        "if __name__ == '__main__':\n",
        "    main()"
      ],
      "execution_count": 44,
      "outputs": [
        {
          "output_type": "stream",
          "text": [
            "Objective: 38811\n",
            "Route for vehicle 0:\n",
            " 0 Load(0.0) ->  10 Load(3.0) ->  14 Load(0.0) ->  13 Load(2.0) ->  11 Load(0.0) ->  32 Load(2.0) ->  30 Load(0.0) ->  0 Load(0.0)\n",
            "Distance of the route: 358m\n",
            "Load of the route: 0.0\n",
            "\n",
            "Route for vehicle 1:\n",
            " 0 Load(0.0) ->  33 Load(2.0) ->  20 Load(3.0) ->  3 Load(1.0) ->  41 Load(3.0) ->  5 Load(1.0) ->  50 Load(3.0) ->  47 Load(2.0) ->  46 Load(0.0) ->  21 Load(3.0) ->  29 Load(0.0) ->  25 Load(2.0) ->  36 Load(3.0) ->  40 Load(1.0) ->  31 Load(0.0) ->  0 Load(0.0)\n",
            "Distance of the route: 353m\n",
            "Load of the route: 0.0\n",
            "\n",
            "Route for vehicle 2:\n",
            " 0 Load(0.0) ->  22 Load(2.0) ->  16 Load(0.0) ->  48 Load(2.0) ->  15 Load(0.0) ->  0 Load(0.0)\n",
            "Distance of the route: 369m\n",
            "Load of the route: 0.0\n",
            "\n",
            "Route for vehicle 3:\n",
            " 0 Load(0.0) ->  6 Load(3.0) ->  19 Load(0.0) ->  27 Load(2.0) ->  34 Load(0.0) ->  1 Load(2.0) ->  12 Load(0.0) ->  9 Load(3.0) ->  7 Load(0.0) ->  43 Load(3.0) ->  35 Load(0.0) ->  45 Load(3.0) ->  28 Load(0.0) ->  0 Load(0.0)\n",
            "Distance of the route: 370m\n",
            "Load of the route: 0.0\n",
            "\n",
            "Route for vehicle 4:\n",
            " 0 Load(0.0) ->  4 Load(2.0) ->  2 Load(0.0) ->  24 Load(2.0) ->  39 Load(0.0) ->  18 Load(1.0) ->  49 Load(3.0) ->  37 Load(2.0) ->  38 Load(0.0) ->  44 Load(1.0) ->  26 Load(3.0) ->  42 Load(1.0) ->  17 Load(3.0) ->  8 Load(1.0) ->  23 Load(0.0) ->  0 Load(0.0)\n",
            "Distance of the route: 361m\n",
            "Load of the route: 0.0\n",
            "\n",
            "Total distance of all routes: 1811m\n",
            "Total load of all routes: 0.0\n",
            "Assignment(Capacity0 (0) | Capacity1 (0) | Capacity2 (2) | Capacity3 (3) | Capacity4 (0) | Capacity5 (3) | Capacity6 (0) | Capacity7 (3) | Capacity8 (3) | Capacity9 (0) | Capacity10 (0) | Capacity11 (2) | Capacity12 (2) | Capacity13 (0) | Capacity14 (3) | Capacity15 (2) | Capacity16 (2) | Capacity17 (1) | Capacity18 (0) | Capacity19 (3) | Capacity20 (2) | Capacity21 (0) | Capacity22 (0) | Capacity23 (1) | Capacity24 (0) | Capacity25 (0) | Capacity26 (1) | Capacity27 (0) | Capacity28 (3) | Capacity29 (3) | Capacity30 (2) | Capacity31 (1) | Capacity32 (0) | Capacity33 (0) | Capacity34 (2) | Capacity35 (3) | Capacity36 (2) | Capacity37 (3) | Capacity38 (2) | Capacity39 (2) | Capacity40 (3) | Capacity41 (1) | Capacity42 (3) | Capacity43 (0) | Capacity44 (0) | Capacity45 (0) | Capacity46 (2) | Capacity47 (3) | Capacity48 (0) | Capacity49 (1) | Capacity50 (1) | Capacity51 (0) | Capacity52 (0) | Capacity53 (0) | Capacity54 (0) | Capacity55 (0) | Capacity56 (0) | Capacity57 (0) | Capacity58 (0) | Capacity59 (0) | Distance0 (0) | Distance1 (168) | Distance2 (4) | Distance3 (83) | Distance4 (3) | Distance5 (103) | Distance6 (6) | Distance7 (218) | Distance8 (329) | Distance9 (205) | Distance10 (64) | Distance11 (235) | Distance12 (203) | Distance13 (173) | Distance14 (150) | Distance15 (307) | Distance16 (170) | Distance17 (305) | Distance18 (87) | Distance19 (34) | Distance20 (36) | Distance21 (179) | Distance22 (67) | Distance23 (356) | Distance24 (12) | Distance25 (225) | Distance26 (242) | Distance27 (47) | Distance28 (357) | Distance29 (220) | Distance30 (323) | Distance31 (316) | Distance32 (250) | Distance33 (18) | Distance34 (130) | Distance35 (301) | Distance36 (244) | Distance37 (128) | Distance38 (203) | Distance39 (70) | Distance40 (259) | Distance41 (93) | Distance42 (295) | Distance43 (227) | Distance44 (236) | Distance45 (349) | Distance46 (168) | Distance47 (148) | Distance48 (203) | Distance49 (106) | Distance50 (125) | Distance51 (0) | Distance52 (0) | Distance53 (0) | Distance54 (0) | Distance55 (358) | Distance56 (353) | Distance57 (369) | Distance58 (370) | Distance59 (361) | Nexts0 (10) | Nexts1 (12) | Nexts2 (24) | Nexts3 (41) | Nexts4 (2) | Nexts5 (50) | Nexts6 (19) | Nexts7 (43) | Nexts8 (23) | Nexts9 (7) | Nexts10 (14) | Nexts11 (32) | Nexts12 (9) | Nexts13 (11) | Nexts14 (13) | Nexts15 (57) | Nexts16 (48) | Nexts17 (8) | Nexts18 (49) | Nexts19 (27) | Nexts20 (3) | Nexts21 (29) | Nexts22 (16) | Nexts23 (59) | Nexts24 (39) | Nexts25 (36) | Nexts26 (42) | Nexts27 (34) | Nexts28 (58) | Nexts29 (25) | Nexts30 (55) | Nexts31 (56) | Nexts32 (30) | Nexts33 (20) | Nexts34 (1) | Nexts35 (45) | Nexts36 (40) | Nexts37 (38) | Nexts38 (44) | Nexts39 (18) | Nexts40 (31) | Nexts41 (5) | Nexts42 (17) | Nexts43 (35) | Nexts44 (26) | Nexts45 (28) | Nexts46 (21) | Nexts47 (46) | Nexts48 (15) | Nexts49 (37) | Nexts50 (47) | Nexts51 (33) | Nexts52 (22) | Nexts53 (6) | Nexts54 (4) | Active0 (1) | Active1 (1) | Active2 (1) | Active3 (1) | Active4 (1) | Active5 (1) | Active6 (1) | Active7 (1) | Active8 (1) | Active9 (1) | Active10 (1) | Active11 (1) | Active12 (1) | Active13 (1) | Active14 (1) | Active15 (1) | Active16 (1) | Active17 (1) | Active18 (1) | Active19 (1) | Active20 (1) | Active21 (1) | Active22 (1) | Active23 (1) | Active24 (1) | Active25 (1) | Active26 (1) | Active27 (1) | Active28 (1) | Active29 (1) | Active30 (1) | Active31 (1) | Active32 (1) | Active33 (1) | Active34 (1) | Active35 (1) | Active36 (1) | Active37 (1) | Active38 (1) | Active39 (1) | Active40 (1) | Active41 (1) | Active42 (1) | Active43 (1) | Active44 (1) | Active45 (1) | Active46 (1) | Active47 (1) | Active48 (1) | Active49 (1) | Active50 (1) | Active51 (1) | Active52 (1) | Active53 (1) | Active54 (1) | Vehicles0 (0) | Vehicles1 (3) | Vehicles2 (4) | Vehicles3 (1) | Vehicles4 (4) | Vehicles5 (1) | Vehicles6 (3) | Vehicles7 (3) | Vehicles8 (4) | Vehicles9 (3) | Vehicles10 (0) | Vehicles11 (0) | Vehicles12 (3) | Vehicles13 (0) | Vehicles14 (0) | Vehicles15 (2) | Vehicles16 (2) | Vehicles17 (4) | Vehicles18 (4) | Vehicles19 (3) | Vehicles20 (1) | Vehicles21 (1) | Vehicles22 (2) | Vehicles23 (4) | Vehicles24 (4) | Vehicles25 (1) | Vehicles26 (4) | Vehicles27 (3) | Vehicles28 (3) | Vehicles29 (1) | Vehicles30 (0) | Vehicles31 (1) | Vehicles32 (0) | Vehicles33 (1) | Vehicles34 (3) | Vehicles35 (3) | Vehicles36 (1) | Vehicles37 (4) | Vehicles38 (4) | Vehicles39 (4) | Vehicles40 (1) | Vehicles41 (1) | Vehicles42 (4) | Vehicles43 (3) | Vehicles44 (4) | Vehicles45 (3) | Vehicles46 (1) | Vehicles47 (1) | Vehicles48 (2) | Vehicles49 (4) | Vehicles50 (1) | Vehicles51 (1) | Vehicles52 (2) | Vehicles53 (3) | Vehicles54 (4) | Vehicles55 (0) | Vehicles56 (1) | Vehicles57 (2) | Vehicles58 (3) | Vehicles59 (4) | (38811))\n"
          ],
          "name": "stdout"
        }
      ]
    }
  ]
}
